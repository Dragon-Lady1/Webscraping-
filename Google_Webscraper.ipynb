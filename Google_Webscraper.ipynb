{
 "cells": [
  {
   "cell_type": "code",
   "execution_count": null,
   "metadata": {},
   "outputs": [],
   "source": [
    "import requests\n",
    "import csv\n",
    "url =\"https://www.finelib.com/towns/ogun-state/mowe/primary-and-secondary-schools\"\n",
    "page= requests.get(url)\n",
    "page\n",
    "\n",
    "\n",
    "# In[ ]:\n",
    "\n",
    "\n",
    "from bs4 import BeautifulSoup\n",
    "html_soup = BeautifulSoup(page.content, 'html5lib')\n",
    "type(html_soup)\n",
    "\n",
    "\n",
    "# In[ ]:\n",
    "\n",
    "\n",
    "D=[]\n",
    "movie_containers = html_soup.find('div', attrs={'class':'box-682 bg-none'})\n",
    "print(type(movie_containers))\n",
    "print(len(movie_containers))\n",
    "company_names=[]\n",
    "for row in movie_containers.find_all_next('div', \n",
    "                         attrs = {'class':'box-682 bg-none'}):\n",
    "    c={}\n",
    "    c['company name'] = row.div.a.text \n",
    "    c['address']= row.find('div', {'class':'cmpny-lstng-1'} ).text\n",
    "    c['phone number']= row.find('div',{'class':'tel-no-div'}).text\n",
    "    #c['url']= row.find('div',{'class':'subb-bx MT-15'}).a\n",
    "   \n",
    "    \n",
    "    company_names.append(c) \n",
    "csvfile = 'moweschool.csv'\n",
    "with open(csvfile, 'w', newline ='') as z:\n",
    "    csvwriter = csv.DictWriter(z, ['company name', 'address', 'phone number'])\n",
    "    csvwriter.writeheader()\n",
    "    for item in company_names:\n",
    "        csvwriter.writerow(item)\n",
    "    \n",
    "\n"
   ]
  }
 ],
 "metadata": {
  "kernelspec": {
   "display_name": "Python 3",
   "language": "python",
   "name": "python3"
  },
  "language_info": {
   "codemirror_mode": {
    "name": "ipython",
    "version": 3
   },
   "file_extension": ".py",
   "mimetype": "text/x-python",
   "name": "python",
   "nbconvert_exporter": "python",
   "pygments_lexer": "ipython3",
   "version": "3.7.0"
  }
 },
 "nbformat": 4,
 "nbformat_minor": 2
}
